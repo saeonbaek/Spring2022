{
  "nbformat": 4,
  "nbformat_minor": 0,
  "metadata": {
    "colab": {
      "name": "Untitled1.ipynb",
      "provenance": [],
      "authorship_tag": "ABX9TyNmdnOWGczBR9NzvPzRv22j",
      "include_colab_link": true
    },
    "kernelspec": {
      "name": "python3",
      "display_name": "Python 3"
    },
    "language_info": {
      "name": "python"
    }
  },
  "cells": [
    {
      "cell_type": "markdown",
      "metadata": {
        "id": "view-in-github",
        "colab_type": "text"
      },
      "source": [
        "<a href=\"https://colab.research.google.com/github/saeonbaek/Spring2022/blob/main/20220316.ipynb\" target=\"_parent\"><img src=\"https://colab.research.google.com/assets/colab-badge.svg\" alt=\"Open In Colab\"/></a>"
      ]
    },
    {
      "cell_type": "code",
      "execution_count": 2,
      "metadata": {
        "id": "p38_VRxNf7MI"
      },
      "outputs": [],
      "source": [
        "import numpy as np "
      ]
    },
    {
      "cell_type": "markdown",
      "source": [
        ""
      ],
      "metadata": {
        "id": "Zo0L0S0djGqI"
      }
    },
    {
      "cell_type": "markdown",
      "source": [
        ""
      ],
      "metadata": {
        "id": "aTT9UZFEjGGc"
      }
    },
    {
      "cell_type": "markdown",
      "source": [
        "# 새 섹션"
      ],
      "metadata": {
        "id": "H3aXoh31gEzj"
      }
    },
    {
      "cell_type": "code",
      "source": [
        "x = np.array([1,2,3])   #리스트를 어레이로 바꿔라 \n",
        "print(x)\n",
        "print(type(x))\n",
        "print(x.shape)"
      ],
      "metadata": {
        "colab": {
          "base_uri": "https://localhost:8080/"
        },
        "id": "6UREp9vbmawV",
        "outputId": "d1e1b804-3b17-430a-c284-df508ebdde67"
      },
      "execution_count": 5,
      "outputs": [
        {
          "output_type": "stream",
          "name": "stdout",
          "text": [
            "[1 2 3]\n",
            "<class 'numpy.ndarray'>\n",
            "(3,)\n"
          ]
        }
      ]
    },
    {
      "cell_type": "markdown",
      "source": [
        "class는 특수한 변수임 ndarray : n차원의 어레이"
      ],
      "metadata": {
        "id": "4Of8YCKjmnBw"
      }
    },
    {
      "cell_type": "code",
      "source": [
        "x = np.arange(0,10,2)  #여기서 2는 증가량을 나타냄. \n",
        "print(x)\n",
        "print(type(x))\n",
        "print(x.shape)"
      ],
      "metadata": {
        "colab": {
          "base_uri": "https://localhost:8080/"
        },
        "id": "qGu_XjQzmeSn",
        "outputId": "9fcc58cd-af4c-4cc3-a904-ffec3293b9ce"
      },
      "execution_count": 7,
      "outputs": [
        {
          "output_type": "stream",
          "name": "stdout",
          "text": [
            "[0 2 4 6 8]\n",
            "<class 'numpy.ndarray'>\n",
            "(5,)\n"
          ]
        }
      ]
    },
    {
      "cell_type": "code",
      "source": [
        "x = np.linspace(0,10,6)\n",
        "print(x)\n",
        "print(type(x))\n",
        "print(x.shape)\n"
      ],
      "metadata": {
        "id": "QIEDqHZdmeVl"
      },
      "execution_count": null,
      "outputs": []
    },
    {
      "cell_type": "markdown",
      "source": [
        "linspace=linear space\n",
        "(0,10,6)\n",
        "0부터 10까지 특이하게 10을 포함함.\n",
        "0부터 10까지 나누어서 총 6개의 숫자를 만들어라\n",
        "단 등간격으로 만들어라\n"
      ],
      "metadata": {
        "id": "m9xUQ5LfnQBD"
      }
    },
    {
      "cell_type": "code",
      "source": [
        "x = np.array([[1,2,3], [4,5,6]])\n",
        "print(x)\n",
        "print(type(x))\n",
        "print(x.shape)"
      ],
      "metadata": {
        "colab": {
          "base_uri": "https://localhost:8080/"
        },
        "id": "DvDaWD4Rmea3",
        "outputId": "573e6658-3be7-4223-82f3-b548daf77470"
      },
      "execution_count": 3,
      "outputs": [
        {
          "output_type": "stream",
          "name": "stdout",
          "text": [
            "[[1 2 3]\n",
            " [4 5 6]]\n",
            "<class 'numpy.ndarray'>\n",
            "(2, 3)\n"
          ]
        }
      ]
    },
    {
      "cell_type": "markdown",
      "source": [
        "하나만 쓴게 아니다.\n",
        "리스트를 2개 썼음. \n",
        "1 2 3\n",
        "4 5 6 \n",
        "(2,3) shape \n"
      ],
      "metadata": {
        "id": "e4chjbtAqIRn"
      }
    },
    {
      "cell_type": "markdown",
      "source": [
        ""
      ],
      "metadata": {
        "id": "Fe2fwgJQnOzR"
      }
    },
    {
      "cell_type": "code",
      "source": [
        "x = np.array([[[1,2,3], [4,5,6]], [[7,8,9], [10,11,12]]])\n",
        "print(x)\n",
        "print(type(x))\n",
        "print(x.shape)"
      ],
      "metadata": {
        "colab": {
          "base_uri": "https://localhost:8080/"
        },
        "id": "BHU5M3sNmbGy",
        "outputId": "b91c7690-8f2c-4773-8f87-cb0fb7ce842b"
      },
      "execution_count": 4,
      "outputs": [
        {
          "output_type": "stream",
          "name": "stdout",
          "text": [
            "[[[ 1  2  3]\n",
            "  [ 4  5  6]]\n",
            "\n",
            " [[ 7  8  9]\n",
            "  [10 11 12]]]\n",
            "<class 'numpy.ndarray'>\n",
            "(2, 2, 3)\n"
          ]
        }
      ]
    },
    {
      "cell_type": "markdown",
      "source": [
        "3d가 되면?\n",
        "몇 차원인지 볼 때는 \n",
        "제일 처음과 제일 마지막에 있는 대괄호의 개수를 보자\n",
        "\n",
        "3개가 중첩되어 있으므로 3d array\n"
      ],
      "metadata": {
        "id": "nviDY7EQwjbN"
      }
    },
    {
      "cell_type": "code",
      "source": [
        "x = np.array([[[1,2,3], [4,5,6]], [[7,8,9], [10,11,12]]])\n",
        "print(x)\n",
        "print(type(x))\n",
        "print(x.shape)"
      ],
      "metadata": {
        "colab": {
          "base_uri": "https://localhost:8080/"
        },
        "id": "xZ3etsQ_mbX2",
        "outputId": "0490360f-1e1b-41f1-dbb3-e4bc35d6089d"
      },
      "execution_count": 6,
      "outputs": [
        {
          "output_type": "stream",
          "name": "stdout",
          "text": [
            "[[[ 1  2  3]\n",
            "  [ 4  5  6]]\n",
            "\n",
            " [[ 7  8  9]\n",
            "  [10 11 12]]]\n",
            "<class 'numpy.ndarray'>\n",
            "(2, 2, 3)\n"
          ]
        }
      ]
    },
    {
      "cell_type": "code",
      "source": [
        "x = np.ones([2, 2, 3])\n",
        "print(x)\n",
        "print(type(x))\n",
        "print(x.shape)"
      ],
      "metadata": {
        "colab": {
          "base_uri": "https://localhost:8080/"
        },
        "id": "kuWrlKSygD4R",
        "outputId": "26a5fc76-a593-4603-b264-ff067a3f2e56"
      },
      "execution_count": 7,
      "outputs": [
        {
          "output_type": "stream",
          "name": "stdout",
          "text": [
            "[[[1. 1. 1.]\n",
            "  [1. 1. 1.]]\n",
            "\n",
            " [[1. 1. 1.]\n",
            "  [1. 1. 1.]]]\n",
            "<class 'numpy.ndarray'>\n",
            "(2, 2, 3)\n"
          ]
        }
      ]
    },
    {
      "cell_type": "markdown",
      "source": [
        "ones란 ? 2,2,3에 1로 채워진 함수를 만드는 것\n",
        "3d array"
      ],
      "metadata": {
        "id": "qSLDpusexhit"
      }
    },
    {
      "cell_type": "code",
      "source": [
        "np.random.normal(0, 1, [2,3,4])    "
      ],
      "metadata": {
        "colab": {
          "base_uri": "https://localhost:8080/"
        },
        "id": "BXc9itffnNOg",
        "outputId": "4c038628-5248-48ec-ee00-b78a4156bc45"
      },
      "execution_count": 3,
      "outputs": [
        {
          "output_type": "execute_result",
          "data": {
            "text/plain": [
              "array([[[-0.74948237,  2.17666498, -1.55966703, -0.535301  ],\n",
              "        [-0.53281816, -0.60796014,  0.43777118, -2.09708024],\n",
              "        [ 0.13339479, -1.0794178 , -2.0430599 , -1.14889472]],\n",
              "\n",
              "       [[-0.29441232,  0.2443131 , -1.05726775,  1.8221828 ],\n",
              "        [ 0.14685588, -0.12208385, -2.00940236, -0.48590878],\n",
              "        [ 1.25754252,  1.96425615, -1.95807975,  0.21779753]]])"
            ]
          },
          "metadata": {},
          "execution_count": 3
        }
      ]
    },
    {
      "cell_type": "markdown",
      "source": [
        "numpy.random.normal \n",
        "구글에 치면 numpy사이트에서 알려줌\n",
        "1st array –mean값 평균값\n",
        "2nd-개수\n",
        "3rd-[2,3,4,]의 ndarray를 만들어라  3d임\n"
      ],
      "metadata": {
        "id": "s12EgC8hzl45"
      }
    },
    {
      "cell_type": "code",
      "source": [
        "import matplotlib.pyplot as plt"
      ],
      "metadata": {
        "id": "giX-B6sw1ZFP"
      },
      "execution_count": 6,
      "outputs": []
    },
    {
      "cell_type": "code",
      "source": [
        "x = np.random.normal(0, 1, 100)\n",
        "print(x)\n",
        "plt.hist(x, bins=10)"
      ],
      "metadata": {
        "colab": {
          "base_uri": "https://localhost:8080/",
          "height": 669
        },
        "id": "xYUQaJ6F1eT5",
        "outputId": "f859628b-4757-4007-90ba-254ebe53e640"
      },
      "execution_count": 7,
      "outputs": [
        {
          "output_type": "stream",
          "name": "stdout",
          "text": [
            "[-0.39086101  0.43357766 -1.65139291 -0.90427189  0.43000153  0.45971749\n",
            "  1.21174292  0.77974393  2.10941614 -0.88858734 -0.27014545  1.22454103\n",
            " -0.31864695 -1.00044373  0.70159168  0.7677399   1.48464244 -0.25166065\n",
            " -0.1576911  -1.95702058  0.87431763 -0.77883393 -0.42440457  0.32779129\n",
            " -1.41312241  0.1137226  -1.09551068  1.39830835 -0.81001449  1.10141493\n",
            " -0.89669836  2.4043681  -0.02860857  1.05910172 -0.33123471  0.98279032\n",
            " -0.50414109 -1.58363285  2.28620878  0.77807185  1.14274799  0.63977351\n",
            " -1.23183579 -1.08722604  0.30276446  0.3239822  -0.10682143 -0.30641215\n",
            "  1.67367914  1.14288471  0.23642629  2.19306314 -0.41226611  1.20909588\n",
            " -1.42445513 -0.30360851 -0.77812706 -1.47540716 -0.19079549 -0.47351799\n",
            "  0.63764117 -0.04042539 -0.78365527  0.62535274 -0.28649423  1.10602651\n",
            " -0.41110729  0.62538886  1.21574066 -0.0703506  -0.9781147   0.40868393\n",
            "  1.42157268  0.53225205 -0.0486827  -0.79492877 -0.50154416 -0.22316684\n",
            "  0.0673836  -0.3319509   1.37621651  0.31896083 -0.28557026 -0.66301798\n",
            " -0.0623695   0.79207028 -0.33829083 -1.13861267 -0.30450649 -1.70786266\n",
            "  1.0980508   1.68896578  0.28027544 -0.41626376 -0.53259765  1.60314114\n",
            "  1.89739892  0.13036549  0.23133404 -0.19402145]\n"
          ]
        },
        {
          "output_type": "execute_result",
          "data": {
            "text/plain": [
              "(array([ 4.,  7., 11., 21., 12., 16.,  8., 13.,  4.,  4.]),\n",
              " array([-1.95702058, -1.52088171, -1.08474284, -0.64860397, -0.21246511,\n",
              "         0.22367376,  0.65981263,  1.0959515 ,  1.53209037,  1.96822923,\n",
              "         2.4043681 ]),\n",
              " <a list of 10 Patch objects>)"
            ]
          },
          "metadata": {},
          "execution_count": 7
        },
        {
          "output_type": "display_data",
          "data": {
            "text/plain": [
              "<Figure size 432x288 with 1 Axes>"
            ],
            "image/png": "[encoded data removed]"
          },
          "metadata": {
            "needs_background": "light"
          }
        }
      ]
    },
    {
      "cell_type": "markdown",
      "source": [
        "(0,1,100)이면 100은 1d로 숫자 100개를 만들어라"
      ],
      "metadata": {
        "id": "P1tFpkO843ic"
      }
    },
    {
      "cell_type": "markdown",
      "source": [
        " "
      ],
      "metadata": {
        "id": "CufQfHmDjdqT"
      }
    },
    {
      "cell_type": "markdown",
      "source": [
        ""
      ],
      "metadata": {
        "id": "zCGCdHZemWVU"
      }
    },
    {
      "cell_type": "markdown",
      "source": [
        ""
      ],
      "metadata": {
        "id": "yTuzhGwBjLpi"
      }
    }
  ]
}